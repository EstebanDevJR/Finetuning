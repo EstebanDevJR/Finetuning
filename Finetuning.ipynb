{
 "cells": [
  {
   "cell_type": "markdown",
   "metadata": {
    "id": "kWFhkJykbTx-"
   },
   "source": [
    "#Clasificacion de preguntas para asistente legal"
   ]
  },
  {
   "cell_type": "code",
   "execution_count": null,
   "metadata": {
    "id": "FO7lcyUFqdMN"
   },
   "outputs": [],
   "source": [
    "# Instalar librerías necesarias\n",
    "!pip install -q -U transformers datasets"
   ]
  },
  {
   "cell_type": "code",
   "execution_count": null,
   "metadata": {
    "id": "hBzwMX53qyGa"
   },
   "outputs": [],
   "source": [
    "# ============================\n",
    "# Importar librerías\n",
    "# ============================\n",
    "import torch\n",
    "from datasets import Dataset\n",
    "import matplotlib.pyplot as plt\n",
    "import seaborn as sns\n",
    "from sklearn.metrics import confusion_matrix\n",
    "from transformers import (\n",
    "    AutoTokenizer,\n",
    "    AutoModelForSequenceClassification,\n",
    "    Trainer,\n",
    "    TrainingArguments\n",
    ")"
   ]
  },
  {
   "cell_type": "code",
   "execution_count": null,
   "metadata": {
    "id": "nEfW54Nvqvc6"
   },
   "outputs": [],
   "source": [
    "# ============================\n",
    "# Crear dataset\n",
    "# ============================\n",
    "data = [\n",
    "    # Contratos\n",
    "    (\"¿Cómo redactar una cláusula de confidencialidad en un contrato de prestación de servicios?\", \"Contratos\"),\n",
    "    (\"¿Es obligatorio registrar un contrato de arrendamiento ante notario?\", \"Contratos\"),\n",
    "    (\"¿Qué pasa si un contrato no especifica la duración del servicio?\", \"Contratos\"),\n",
    "    (\"¿Cómo incluir cláusulas de penalización por incumplimiento en un contrato?\", \"Contratos\"),\n",
    "    (\"¿Cuál es la diferencia entre un contrato indefinido y uno temporal?\", \"Contratos\"),\n",
    "    (\"¿Qué debe contener un contrato de trabajo en España para ser válido?\", \"Contratos\"),\n",
    "    (\"¿Puedo modificar unilateralmente un contrato ya firmado?\", \"Contratos\"),\n",
    "    (\"¿Qué elementos invalidan un contrato de compraventa?\", \"Contratos\"),\n",
    "    (\"¿Cómo asegurar la validez de un contrato firmado digitalmente?\", \"Contratos\"),\n",
    "    (\"¿Es legal incluir una cláusula de exclusividad en un contrato mercantil?\", \"Contratos\"),\n",
    "\n",
    "    # Derecho Laboral\n",
    "    (\"¿Cuántos días de vacaciones corresponden por ley en Colombia?\", \"Derecho Laboral\"),\n",
    "    (\"¿Cómo calcular la liquidación de un trabajador despedido en España?\", \"Derecho Laboral\"),\n",
    "    (\"¿Es legal contratar a un trabajador sin firmar contrato escrito?\", \"Derecho Laboral\"),\n",
    "    (\"¿Qué derechos tiene un empleado si lo despiden sin justa causa?\", \"Derecho Laboral\"),\n",
    "    (\"¿Cuál es la diferencia entre indemnización y liquidación?\", \"Derecho Laboral\"),\n",
    "    (\"¿Cuántas horas extras puede hacer un trabajador por semana?\", \"Derecho Laboral\"),\n",
    "    (\"¿Cómo funciona el permiso por maternidad en Colombia?\", \"Derecho Laboral\"),\n",
    "    (\"¿Es obligatorio pagar aguinaldo en todos los países de LATAM?\", \"Derecho Laboral\"),\n",
    "    (\"¿Qué procedimiento debe seguir una empresa para un despido colectivo?\", \"Derecho Laboral\"),\n",
    "    (\"¿Qué hacer si un empleado no cumple con su horario laboral?\", \"Derecho Laboral\"),\n",
    "\n",
    "    # Derecho Tributario\n",
    "    (\"¿Qué tasa de IVA aplica en España para servicios digitales?\", \"Derecho Tributario\"),\n",
    "    (\"¿Cómo declarar impuestos siendo autónomo en México?\", \"Derecho Tributario\"),\n",
    "    (\"¿Qué diferencias hay entre ISR e IVA?\", \"Derecho Tributario\"),\n",
    "    (\"¿Es deducible el gasto en equipos informáticos para una pyme?\", \"Derecho Tributario\"),\n",
    "    (\"¿Cómo funciona la retención de impuestos para trabajadores independientes?\", \"Derecho Tributario\"),\n",
    "    (\"¿Qué sanciones existen por no presentar la declaración anual?\", \"Derecho Tributario\"),\n",
    "    (\"¿Cuáles son las obligaciones fiscales de una startup en España?\", \"Derecho Tributario\"),\n",
    "    (\"¿Se puede recuperar el IVA pagado en importaciones?\", \"Derecho Tributario\"),\n",
    "    (\"¿Cómo evitar la doble tributación en LATAM y Europa?\", \"Derecho Tributario\"),\n",
    "    (\"¿Qué impuestos se pagan por dividendos recibidos?\", \"Derecho Tributario\"),\n",
    "]"
   ]
  },
  {
   "cell_type": "code",
   "execution_count": null,
   "metadata": {
    "id": "WyOLdey3qrc8"
   },
   "outputs": [],
   "source": [
    "# Mapear etiquetas a números\n",
    "label2id = {\"Contratos\": 0, \"Derecho Laboral\": 1, \"Derecho Tributario\": 2}\n",
    "id2label = {v: k for k, v in label2id.items()}\n",
    "\n",
    "data_dict = [{\"text\": x, \"label\": label2id[y]} for x, y in data]\n",
    "dataset = Dataset.from_list(data_dict)"
   ]
  },
  {
   "cell_type": "code",
   "execution_count": null,
   "metadata": {
    "id": "mHs4y-Ykz6RE"
   },
   "outputs": [],
   "source": [
    "# ============================\n",
    "# Split train / test\n",
    "# ============================\n",
    "dataset_split = dataset.train_test_split(test_size=0.3, seed=42)\n",
    "\n",
    "# Asignar datasets\n",
    "train_dataset = dataset_split[\"train\"]\n",
    "eval_dataset = dataset_split[\"test\"]"
   ]
  },
  {
   "cell_type": "code",
   "execution_count": null,
   "metadata": {
    "colab": {
     "base_uri": "https://localhost:8080/",
     "height": 241,
     "referenced_widgets": [
      "57799c0bb86441119f294ac602e764e1",
      "acfa6ec8f5e64036b626aa7c265faf34",
      "b07217bf778c46b3978adb4f9157ea40",
      "857719c5de994ba499d9684ccd49b23d",
      "01a768fa03934546b6a840ceb9ba5ab0",
      "86c857b9b416431086c770a47e5fbd5a",
      "670469c424ce49e89e443bc716adfbdc",
      "04a85f699d104312900ac7f39b6d5230",
      "8f7b3a8dbdb441ad9518a121330fb688",
      "3f6a3d70860d48b2a97f42a42f018b47",
      "f6b1708295934db5a85be50a63a586ee",
      "2aee831e51864253af3e3c78661c722a",
      "bdb806e1815e41e9a71fd8631f2e7b15",
      "e7617aec8dfe4174a373350c5f8c64e2",
      "ec51640f472d44aa80b017f6c043b0b2",
      "7b46b1b5818c4fd494dcd0e21418644c",
      "25638f7c7e1b4c6998ff301df7930a66",
      "72febfde47a94a76b362bf0b407540f8",
      "6b02560471b14c2b8603aa3b0653d2a9",
      "873879f352ff4074abbdd3d9b5edeb60",
      "ab9670a1ecca4c32a7dbe5764e7e6fb6",
      "9a6ffe909ed6493f99753d8fe41eb4e8",
      "f8e8900434544e618d3b3fbe17694886",
      "d359d2855a89465d86572dd255af01f1",
      "92f2292915f64f3d9dd7d18a495a352a",
      "4bf488b50b884d2facc68ce07eccd713",
      "816419b60ba14cb8abdb7ea019a1238f",
      "a71f7f4d03db41f6b82dee320e0321de",
      "e378abb3e6ae4f0db971253046747f35",
      "827bf6a70cc246cdb4da7c45b14a2b0b",
      "6eca14f0c318437c813e20c692cf7ce1",
      "65f0cdac873549a1b07d8bc267815c7f",
      "9850feb820814b6b9b792dfa76b28b23",
      "13262000128d4f3ebb79928b7065e084",
      "7584fdc8d72842f38758fb673de47f05",
      "cd37454b09cb4c2cae10567487e3c3fd",
      "4d9a8aa2a12d4745ab39c2b84cdd45ee",
      "4f5c4b313cf54481a7cc542ac7768dae",
      "863bdaa5a34c48fdb6b24ff473aae087",
      "e74954ef77164b519f0f6afe83da1455",
      "790c127fb170436c95a741863f2641d1",
      "964c1c3140e6461ba4d3d12ee90de9cf",
      "b85a18c3768c4a5da3633618b1789d0e",
      "10a30627cec547998a2d305caf5b8ba9",
      "792c2c882cfa4a1fb8cff5291b2c58f8",
      "8f69c0149d2c44158b829a5ff492af7f",
      "e0f9652511fc4d2c909170afdd16e32c",
      "2e583f489bf34caaace89e7b63f02cf1",
      "f8749d221ceb45f7a268feb39a051a0d",
      "c36184661a034ab6b31618ab84f905b0",
      "941896e6374d4418bf57f1675bddd651",
      "da9659175c834e6db6b66a5e386857e6",
      "1aa8abefeb354232b17da7108dd55a98",
      "9bce1dcd10854a288046f620bcf3da8d",
      "7fd93630e81a4d27bfac5e678fa92b55",
      "efaee61ee12b40f79cd8244c1ebad228",
      "33b696feeec143faa5ad6c1e5c3d1934",
      "6aa4da99185448e09e898017b28ceebe",
      "dff46cb4889a4fadabc027d618d9e96b",
      "c4cf55af725b4d2da9fdfe42c96a9c02",
      "77693bcea6b34652a7d632ff60de37d1",
      "fd8670c45a2f461ea216711755c42526",
      "7c98b484de1343569ea4179a3f306ea6",
      "b2b8eddcc0334e43bea2f178f9341600",
      "5526b2696f154ab4afb21adb4605b772",
      "d6b3e1fb55ff48cba204e53454e33cb8",
      "68d4048521394b509a30d1036fe0801b",
      "e5ea540f43054c3a9d365b89ee5ef516",
      "da611282c9bf4cb5bd8677e7a2c876c9",
      "83f918cc9f644e389697719afee88c2b",
      "63e23542d58546adba82cbdcfe1d2f0a",
      "d5817a8310e64281b21fcc7bba7dcb44",
      "429435bdefcc4e95b9e6e9aebdd7c63d",
      "d738a1fe177948a9bbea49a6db2ab380",
      "f86d28670a7741699de1fe2c32b80092",
      "3c8cbd271a334bf79089d73a872b895d",
      "009d9e65e870438bb3d0804fb6ec3352"
     ]
    },
    "id": "Q3scbVdXqpQb",
    "outputId": "836c3bd3-ef89-4eac-bdee-43fba08224ae"
   },
   "outputs": [],
   "source": [
    "# ============================\n",
    "# Tokenización\n",
    "# ============================\n",
    "from transformers import AutoTokenizer\n",
    "\n",
    "tokenizer = AutoTokenizer.from_pretrained(\"dccuchile/bert-base-spanish-wwm-uncased\")\n",
    "\n",
    "def tokenize(batch):\n",
    "    return tokenizer(batch[\"text\"], padding=True, truncation=True, max_length=128)\n",
    "\n",
    "train_dataset = train_dataset.map(tokenize, batched=True)\n",
    "eval_dataset = eval_dataset.map(tokenize, batched=True)"
   ]
  },
  {
   "cell_type": "code",
   "execution_count": null,
   "metadata": {
    "colab": {
     "base_uri": "https://localhost:8080/"
    },
    "id": "MVs_iNSaqnFZ",
    "outputId": "b42a7798-b6ba-4f25-9429-eb5dbdab6da5"
   },
   "outputs": [],
   "source": [
    "# ============================\n",
    "# Cargar modelo\n",
    "# ============================\n",
    "from transformers import AutoModelForSequenceClassification\n",
    "\n",
    "model = AutoModelForSequenceClassification.from_pretrained(\n",
    "    \"dccuchile/bert-base-spanish-wwm-uncased\",\n",
    "    num_labels=3,\n",
    "    id2label=id2label,\n",
    "    label2id=label2id\n",
    ")"
   ]
  },
  {
   "cell_type": "code",
   "execution_count": null,
   "metadata": {
    "id": "xWXV4R9cwLlC"
   },
   "outputs": [],
   "source": [
    "#==============\n",
    "# Accuracy\n",
    "#==============\n",
    "\n",
    "from sklearn.metrics import accuracy_score, precision_recall_fscore_support\n",
    "\n",
    "def compute_metrics(eval_pred):\n",
    "    logits, labels = eval_pred\n",
    "    preds = logits.argmax(axis=-1)\n",
    "    acc = accuracy_score(labels, preds)\n",
    "    precision, recall, f1, _ = precision_recall_fscore_support(labels, preds, average=\"weighted\")\n",
    "    return {\n",
    "        \"accuracy\": acc,\n",
    "        \"precision\": precision,\n",
    "        \"recall\": recall,\n",
    "        \"f1\": f1\n",
    "    }"
   ]
  },
  {
   "cell_type": "code",
   "execution_count": null,
   "metadata": {
    "colab": {
     "base_uri": "https://localhost:8080/",
     "height": 693
    },
    "id": "TbFbccikqiiH",
    "outputId": "f08660d0-0959-4d7f-a271-96c5051d9a11"
   },
   "outputs": [],
   "source": [
    "# ============================\n",
    "# Entrenamiento\n",
    "# ============================\n",
    "training_args = TrainingArguments(\n",
    "    output_dir=\"./results\",\n",
    "    learning_rate=1e-5,\n",
    "    per_device_train_batch_size=4,\n",
    "    num_train_epochs=8,\n",
    "    weight_decay=0.01,\n",
    "    logging_dir=\"./logs\",\n",
    "    logging_steps=5,\n",
    "    eval_strategy=\"epoch\",\n",
    "    save_strategy=\"epoch\",\n",
    "    load_best_model_at_end=True,\n",
    "    metric_for_best_model=\"accuracy\"\n",
    ")\n",
    "\n",
    "trainer = Trainer(\n",
    "    model=model,\n",
    "    args=training_args,\n",
    "    train_dataset=train_dataset,\n",
    "    eval_dataset=eval_dataset,\n",
    "    tokenizer=tokenizer,\n",
    "    compute_metrics=compute_metrics\n",
    ")\n",
    "try:\n",
    "  print(\"Entrenando...\")\n",
    "  trainer.train()\n",
    "  print(\"Entrenamiento completado\")\n",
    "except Exception as e:\n",
    "  print(\"Error al entrenar\")"
   ]
  },
  {
   "cell_type": "code",
   "execution_count": null,
   "metadata": {
    "colab": {
     "base_uri": "https://localhost:8080/"
    },
    "id": "V59sb85LqhtF",
    "outputId": "3b591c07-1473-471e-8779-385199a2dc2d"
   },
   "outputs": [],
   "source": [
    "# ============================\n",
    "# Prueba de predicción\n",
    "# ============================\n",
    "\n",
    "#======================== Contratos ===============================\n",
    "text = \"¿Qué ocurre si una de las partes no firma un contrato digital?\"\n",
    "#text = \"¿Un contrato verbal tiene validez legal en España?\"\n",
    "#text = \"¿Es posible incluir cláusulas de arbitraje en un contrato mercantil?\"\n",
    "\n",
    "\n",
    "#==================== Derecho Laboral ==========================\n",
    "#text = \"¿Cuántos días de permiso corresponden por matrimonio en México?\"\n",
    "#text = \"¿Puede una empresa descontar el salario por llegadas tarde?\"\n",
    "#text = \"¿Qué derechos tiene un trabajador freelance en Colombia?\"\n",
    "\n",
    "# ================ Derecho Tributario ============================\n",
    "#text = \"¿Cuándo se debe presentar la declaración de renta en Colombia?\"\n",
    "#text = \"¿Cómo se calculan los impuestos de una pyme en México?\"\n",
    "#text = \"¿Es deducible el gasto en transporte para trabajadores en España?\"\n",
    "\n",
    "\n",
    "\n",
    "inputs = tokenizer(text, return_tensors=\"pt\", truncation=True, padding=True)\n",
    "\n",
    "# Mover las entradas al mismo dispositivo que el modelo (GPU o CPU).\n",
    "device = torch.device(\"cuda\" if torch.cuda.is_available() else \"cpu\")\n",
    "inputs = {k: v.to(device) for k, v in inputs.items()}\n",
    "model.to(device)\n",
    "\n",
    "outputs = model(**inputs)\n",
    "pred = torch.argmax(outputs.logits, dim=1).item()\n",
    "\n",
    "print(\"Pregunta:\", text)\n",
    "print(\"Predicción:\", id2label[pred])\n",
    "print(\"Probabilidades:\", torch.softmax(outputs.logits, dim=1).tolist()[0])"
   ]
  },
  {
   "cell_type": "code",
   "execution_count": null,
   "metadata": {
    "colab": {
     "base_uri": "https://localhost:8080/",
     "height": 522
    },
    "id": "AfezSzLmwFPq",
    "outputId": "f2a7c136-5993-4a6a-fe0c-9c3451503ad5"
   },
   "outputs": [],
   "source": [
    "# Evaluar dataset\n",
    "#predictions = trainer.predict(eval_dataset)\n",
    "predictions = trainer.predict(train_dataset)\n",
    "y_true = predictions.label_ids\n",
    "y_pred = predictions.predictions.argmax(axis=-1)\n",
    "\n",
    "#accuracy y metricas\n",
    "metrics = compute_metrics((predictions.predictions, y_true))\n",
    "print(\"metricas finales: \", metrics)\n",
    "\n",
    "print(\"Nuestro modelo legal acertó en:\", round(100*metrics[\"accuracy\"],2), \"% de las preguntas nuevas\")\n",
    "\n",
    "\n",
    "# Matriz de confusión\n",
    "cm = confusion_matrix(y_true, y_pred)\n",
    "\n",
    "plt.figure(figsize=(6,5))\n",
    "sns.heatmap(cm, annot=True, fmt=\"d\", cmap=\"Blues\",\n",
    "            xticklabels=list(id2label.values()),\n",
    "            yticklabels=list(id2label.values()))\n",
    "plt.xlabel(\"Predicción\")\n",
    "plt.ylabel(\"Real\")\n",
    "plt.title(\"Matriz de confusión\")\n",
    "plt.show()"
   ]
  },
  {
   "cell_type": "code",
   "execution_count": null,
   "metadata": {
    "id": "lEqRzaZBk2YI"
   },
   "outputs": [],
   "source": []
  }
 ],
 "metadata": {
  "accelerator": "GPU",
  "colab": {
   "gpuType": "T4",
   "provenance": []
  },
  "kernelspec": {
   "display_name": "Python 3",
   "name": "python3"
  },
  "language_info": {
   "name": "python"
  }
 },
 "nbformat": 4,
 "nbformat_minor": 0
}
